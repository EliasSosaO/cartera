{
 "cells": [
  {
   "cell_type": "code",
   "execution_count": 1,
   "metadata": {},
   "outputs": [],
   "source": [
    "import pandas as pd\n",
    "import numpy as np\n",
    "import os\n",
    "pd.set_option('display.float_format', lambda x: '%.2f' % x)\n",
    "pd.set_option('display.max_columns', None)"
   ]
  },
  {
   "cell_type": "markdown",
   "metadata": {},
   "source": [
    "# Tablas"
   ]
  },
  {
   "cell_type": "code",
   "execution_count": 2,
   "metadata": {},
   "outputs": [],
   "source": [
    "MafiActual = pd.read_csv('MafiActual.csv',\n",
    "                         dtype=str)\n",
    "MafiAnterior = pd.read_csv('MafiAnterior.csv',\n",
    "                         dtype=str)\n",
    "ColNum = {'origin_currency_balance_amount':np.float64,\n",
    "          'mthly_lcur_average_bal_amount':np.float64,\n",
    "          'current_bal_local_curncy_amount':np.float64,\n",
    "          'mthly_lcur_average_bal1_amount':np.float64}\n",
    "MafiActual, MafiAnterior = MafiActual.astype(ColNum), MafiAnterior.astype(ColNum)"
   ]
  },
  {
   "cell_type": "markdown",
   "metadata": {},
   "source": [
    "# Atributos"
   ]
  },
  {
   "cell_type": "code",
   "execution_count": 3,
   "metadata": {},
   "outputs": [],
   "source": [
    "AccActual = pd.read_csv('AccActual.csv',\n",
    "                         dtype=str)\n",
    "AttActual = pd.read_csv('AttActual.csv',\n",
    "                         dtype=str)\n",
    "AttActual = AttActual.rename(columns={'account_opening_date': 'opening_date',\n",
    "                                      'original_expiry_date': 'last_expiry_date'})\n",
    "CardActual = pd.read_csv('CardActual.csv',\n",
    "                         dtype=str)\n",
    "AtributosActual = pd.concat([AccActual,AttActual,CardActual])\n",
    "\n",
    "AccAnterior = pd.read_csv('AccAnterior.csv',\n",
    "                         dtype=str)\n",
    "AttAnterior = pd.read_csv('AttAnterior.csv',\n",
    "                         dtype=str)\n",
    "AttAnterior = AttAnterior.rename(columns={'account_opening_date': 'opening_date',\n",
    "                                      'original_expiry_date': 'last_expiry_date'})\n",
    "CardAnterior = pd.read_csv('CardAnterior.csv',\n",
    "                         dtype=str)\n",
    "AtributosAnterior = pd.concat([AccAnterior,AttAnterior,CardAnterior])\n",
    "Atributos = pd.concat([AtributosActual,AtributosAnterior])\n",
    "Atributos['load_date'] = Atributos['load_date'].str[:7]"
   ]
  },
  {
   "cell_type": "markdown",
   "metadata": {},
   "source": [
    "# Rorc"
   ]
  },
  {
   "cell_type": "code",
   "execution_count": 4,
   "metadata": {},
   "outputs": [],
   "source": [
    "RorcActual = pd.read_csv('RorcActual.csv',\n",
    "                         dtype=str)\n",
    "RorcAnterior = pd.read_csv('RorcAnterior.csv',\n",
    "                         dtype=str)\n",
    "Rorc = pd.concat([RorcActual,RorcAnterior])\n",
    "Rorc['cutoff_date'] = Rorc['cutoff_date'].str[:7]\n",
    "Rorc = Rorc.rename(columns={'cutoff_date': 'load_date'})"
   ]
  },
  {
   "cell_type": "markdown",
   "metadata": {},
   "source": [
    "# OppAtt"
   ]
  },
  {
   "cell_type": "code",
   "execution_count": 5,
   "metadata": {},
   "outputs": [],
   "source": [
    "OpAttActual = pd.read_csv('OpAttActual.csv',\n",
    "                         dtype=str)\n",
    "OpAttAnterior = pd.read_csv('OpAttAnterior.csv',\n",
    "                         dtype=str)\n",
    "OpAtt = pd.concat([OpAttActual,OpAttAnterior])\n",
    "OpAtt['cutoff_date'] = OpAtt['cutoff_date'].str[:7]\n",
    "OpAtt = OpAtt.rename(columns={'cutoff_date': 'load_date'})"
   ]
  },
  {
   "cell_type": "markdown",
   "metadata": {},
   "source": [
    "# Refina"
   ]
  },
  {
   "cell_type": "code",
   "execution_count": 6,
   "metadata": {},
   "outputs": [],
   "source": [
    "RefActual = pd.read_csv('RefinaActual.csv',\n",
    "                  dtype=str)\n",
    "RefAnterior = pd.read_csv('RefinaAnterior.csv',\n",
    "                  dtype=str)\n",
    "Ref = pd.concat([RefActual,RefAnterior])\n",
    "Ref['load_date'] = Ref['load_date'].str[:7]\n",
    "Ref = Ref[['source_contract_id','dest_contract_id','load_date']]\n",
    "Ref = Ref.rename(columns={'dest_contract_id': 'contract_id',\n",
    "                          'source_contract_id':'refinanced_contract'})"
   ]
  },
  {
   "cell_type": "markdown",
   "metadata": {},
   "source": [
    "# Productos"
   ]
  },
  {
   "cell_type": "code",
   "execution_count": 7,
   "metadata": {},
   "outputs": [],
   "source": [
    "Productos = pd.read_csv('CatProdCom.csv',dtype=str,encoding='latin-1', usecols=['CD_PROD_COMER','CD_SUBPROD_COMER','PRODCOME'])\n",
    "Productos.columns = ['commercial_product_id','commercial_subproduct_id','product_name']"
   ]
  },
  {
   "cell_type": "markdown",
   "metadata": {},
   "source": [
    "# Catalogo Clientes"
   ]
  },
  {
   "cell_type": "code",
   "execution_count": 8,
   "metadata": {},
   "outputs": [],
   "source": [
    "Clientes = pd.read_csv('CatClientes.csv',dtype=str,encoding='latin-1')\n",
    "Clientes.columns = ['customer_id','group'] "
   ]
  },
  {
   "cell_type": "markdown",
   "metadata": {},
   "source": [
    "----"
   ]
  },
  {
   "cell_type": "markdown",
   "metadata": {},
   "source": [
    "# Proceso"
   ]
  },
  {
   "cell_type": "code",
   "execution_count": 9,
   "metadata": {},
   "outputs": [
    {
     "data": {
      "text/plain": [
       "(636092, 17)"
      ]
     },
     "execution_count": 9,
     "metadata": {},
     "output_type": "execute_result"
    }
   ],
   "source": [
    "Mafi = MafiActual.merge(MafiAnterior, on = ['contract_id', 'customer_id', 'gl_account_id',\n",
    "                                            'commercial_product_id', 'commercial_subproduct_id',\n",
    "                                            'sender_application_id', 'gl_account_branch_id', 'currency_id'],\n",
    "                                            how='outer',\n",
    "                                            suffixes=('_actual', '_anterior'))\n",
    "Mafi['load_date'] = Mafi['load_date_actual'].fillna(Mafi['load_date_anterior'])\n",
    "Mafi = Mafi.drop(['load_date_actual','load_date_anterior'],axis=1)\n",
    "cols = ['load_date'] + [col for col in Mafi.columns if col != 'load_date']\n",
    "Mafi = Mafi[cols]\n",
    "Mafi['load_date'] = Mafi['load_date'].str[:7]\n",
    "Mafi['mthly_lcur_average_bal_amount_actual'] = Mafi['mthly_lcur_average_bal_amount_actual'].fillna(0)\n",
    "Mafi['origin_currency_balance_amount_actual'] = Mafi['origin_currency_balance_amount_actual'].fillna(0)\n",
    "Mafi['mthly_lcur_average_bal1_amount_actual'] = Mafi['mthly_lcur_average_bal1_amount_actual'].fillna(0)\n",
    "Mafi['current_bal_local_curncy_amount_actual'] = Mafi['current_bal_local_curncy_amount_actual'].fillna(0)\n",
    "Mafi['mthly_lcur_average_bal_amount_anterior'] = Mafi['mthly_lcur_average_bal_amount_anterior'].fillna(0)\n",
    "Mafi['origin_currency_balance_amount_anterior'] = Mafi['origin_currency_balance_amount_anterior'].fillna(0)\n",
    "Mafi['mthly_lcur_average_bal1_amount_anterior'] = Mafi['mthly_lcur_average_bal1_amount_anterior'].fillna(0)\n",
    "Mafi['current_bal_local_curncy_amount_anterior'] = Mafi['current_bal_local_curncy_amount_anterior'].fillna(0)\n",
    "Mafi.shape"
   ]
  },
  {
   "cell_type": "code",
   "execution_count": 10,
   "metadata": {},
   "outputs": [],
   "source": [
    "Mafi['var_medio'] = Mafi['mthly_lcur_average_bal_amount_actual'] - Mafi['mthly_lcur_average_bal_amount_anterior']\n",
    "Mafi['var_puntual'] = Mafi['origin_currency_balance_amount_actual'] - Mafi['origin_currency_balance_amount_anterior']\n",
    "Mafi['var_medio_origen'] = Mafi['mthly_lcur_average_bal1_amount_actual'] - Mafi['mthly_lcur_average_bal1_amount_anterior']\n",
    "Mafi['var_puntual_origen'] = Mafi['current_bal_local_curncy_amount_actual'] - Mafi['current_bal_local_curncy_amount_anterior']"
   ]
  },
  {
   "cell_type": "code",
   "execution_count": 11,
   "metadata": {},
   "outputs": [],
   "source": [
    "Mafi1 = Mafi.merge(Atributos,\n",
    "                   on = ['contract_id','load_date'],\n",
    "                   how = 'left').merge(Rorc,\n",
    "                                       on = ['contract_id','load_date'],\n",
    "                                       how = 'left').merge(OpAtt,\n",
    "                                                           left_on=['source_contract1_id','load_date'],\n",
    "                                                           right_on=['main_operation_id','load_date'], how='left')\n",
    "Mafi1.shape\n",
    "ColumnasFecha = ['load_date','opening_date','last_expiry_date', 'contract_cancel_date',  'start_date', 'expiration_date']\n",
    "Mafi1[ColumnasFecha] = Mafi1[ColumnasFecha].apply(lambda x: x.str[:7])\n",
    "Mafi1[ColumnasFecha] = Mafi1[ColumnasFecha].apply(lambda x: pd.to_datetime(x, format='%Y-%m'))"
   ]
  },
  {
   "cell_type": "code",
   "execution_count": 12,
   "metadata": {},
   "outputs": [],
   "source": [
    "# Campo Entrada\n",
    "Mafi1['Entrada'] = np.where(\n",
    "    (Mafi1['load_date'].dt.year == Mafi1['opening_date'].dt.year) &\n",
    "    (Mafi1['load_date'].dt.month == Mafi1['opening_date'].dt.month),\n",
    "    'alta',\n",
    "    None)\n",
    "\n",
    "# Campo Salida\n",
    "\n",
    "Mafi1['Salida'] = np.where(\n",
    "    (Mafi1['last_expiry_date'].dt.year == Mafi1['contract_cancel_date'].dt.year) & \n",
    "    (Mafi1['last_expiry_date'].dt.month == Mafi1['contract_cancel_date'].dt.month),\n",
    "    'natural',\n",
    "    np.where(\n",
    "        (Mafi1['opening_date'].dt.year == Mafi1['contract_cancel_date'].dt.year) & \n",
    "        (Mafi1['opening_date'].dt.month == Mafi1['contract_cancel_date'].dt.month) &\n",
    "        (Mafi1['opening_date'].dt.year == Mafi1['load_date'].dt.year) & \n",
    "        (Mafi1['opening_date'].dt.month == Mafi1['load_date'].dt.month),\n",
    "        'alta-baja',\n",
    "        np.where(\n",
    "            (Mafi1['contract_cancel_date'].dt.year < Mafi1['last_expiry_date'].dt.year) |\n",
    "            ((Mafi1['contract_cancel_date'].dt.year == Mafi1['last_expiry_date'].dt.year) &\n",
    "             (Mafi1['contract_cancel_date'].dt.month < Mafi1['last_expiry_date'].dt.month)) &\n",
    "            (Mafi1['contract_cancel_date'].dt.year == Mafi1['load_date'].dt.year) & \n",
    "            (Mafi1['contract_cancel_date'].dt.month == Mafi1['load_date'].dt.month),\n",
    "            'prepago',\n",
    "            None\n",
    "        )\n",
    "    )\n",
    ")\n",
    "\n",
    "\n",
    "# Campo linea\n",
    "Mafi1['linea'] = np.select(\n",
    "        [\n",
    "            Mafi1['source_contract1_id'].isnull() & Mafi1['source_contract_id'].notnull(),\n",
    "            Mafi1['source_contract_id'].isnull() & Mafi1['source_contract1_id'].notnull(),\n",
    "            Mafi1['source_contract_id'].notnull() & Mafi1['source_contract1_id'].notnull(),\n",
    "            Mafi1['source_contract_id'].isnull() & Mafi1['source_contract1_id'].isnull()\n",
    "        ],\n",
    "        [\n",
    "            'comprometida',\n",
    "            'no comprometida',\n",
    "            'comprometida',\n",
    "            'no linea'\n",
    "        ],\n",
    "        default=None\n",
    "    )\n",
    "\n",
    "# Campo New Money\n",
    "Mafi1['new_money'] = np.where(\n",
    "    (Mafi1['start_date'].dt.year == Mafi1['opening_date'].dt.year) & \n",
    "    (Mafi1['start_date'].dt.month == Mafi1['opening_date'].dt.month)&\n",
    "    (Mafi1['start_date'].dt.year == Mafi1['load_date'].dt.year) & \n",
    "    (Mafi1['start_date'].dt.month == Mafi1['load_date'].dt.month),\n",
    "    '1',\n",
    "    np.where(\n",
    "        (Mafi1['linea'] == 'no linea') & \n",
    "        (Mafi1['opening_date'].dt.year == Mafi1['load_date'].dt.year) & \n",
    "        (Mafi1['opening_date'].dt.month == Mafi1['load_date'].dt.month),\n",
    "        '2',\n",
    "        None\n",
    "    )\n",
    ")\n"
   ]
  },
  {
   "cell_type": "code",
   "execution_count": 13,
   "metadata": {},
   "outputs": [],
   "source": [
    "Mafi1 = Mafi1.merge(Productos,\n",
    "                   on = ['commercial_product_id','commercial_subproduct_id'],\n",
    "                   how = 'left').merge(Clientes,\n",
    "                                       on = 'customer_id',\n",
    "                                       how = 'left')"
   ]
  },
  {
   "cell_type": "code",
   "execution_count": 14,
   "metadata": {},
   "outputs": [
    {
     "data": {
      "text/plain": [
       "(636092, 39)"
      ]
     },
     "execution_count": 14,
     "metadata": {},
     "output_type": "execute_result"
    }
   ],
   "source": [
    "Mafi1.shape"
   ]
  },
  {
   "cell_type": "code",
   "execution_count": null,
   "metadata": {},
   "outputs": [],
   "source": [
    "# Mafi1[['load_date','opening_date','Entrada','commercial_product_id','last_expiry_date','contract_cancel_date','Salida']][Mafi1['Salida'] == 'prepago']\n",
    "# Mafi1[['source_contract1_id','source_contract_id','linea']][Mafi1['linea'] == 'no linea']\n",
    "#Mafi1[['start_date','opening_date','load_date','linea']][Mafi1['new_money'] == '2']"
   ]
  },
  {
   "cell_type": "code",
   "execution_count": 15,
   "metadata": {},
   "outputs": [],
   "source": [
    "Mafi1.to_excel('Enero24_v1.xlsx',index = False)\n",
    "# Actualización"
   ]
  },
  {
   "cell_type": "code",
   "execution_count": null,
   "metadata": {},
   "outputs": [],
   "source": [
    "# Aquí hay otra prueba para actualizar"
   ]
  },
  {
   "cell_type": "code",
   "execution_count": null,
   "metadata": {},
   "outputs": [],
   "source": [
    "# Nueva prueba para asegurar entendimientos"
   ]
  },
  {
   "cell_type": "code",
   "execution_count": null,
   "metadata": {},
   "outputs": [],
   "source": [
    "# Hay cambios importantes"
   ]
  }
 ],
 "metadata": {
  "kernelspec": {
   "display_name": "Python 3 (ipykernel)",
   "language": "python",
   "name": "python3"
  },
  "language_info": {
   "codemirror_mode": {
    "name": "ipython",
    "version": 3
   },
   "file_extension": ".py",
   "mimetype": "text/x-python",
   "name": "python",
   "nbconvert_exporter": "python",
   "pygments_lexer": "ipython3",
   "version": "3.9.13"
  }
 },
 "nbformat": 4,
 "nbformat_minor": 4
}
