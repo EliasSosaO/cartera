{
 "cells": [
  {
   "cell_type": "code",
   "execution_count": 1,
   "metadata": {},
   "outputs": [],
   "source": [
    "import pandas as pd\n",
    "import numpy as np\n",
    "import os\n",
    "pd.set_option('display.float_format', lambda x: '%.2f' % x)\n",
    "pd.set_option('display.max_columns', None)\n",
    "pd.set_option('display.max_rows', None)"
   ]
  },
  {
   "cell_type": "markdown",
   "metadata": {},
   "source": [
    "# Tablas"
   ]
  },
  {
   "cell_type": "code",
   "execution_count": null,
   "metadata": {},
   "outputs": [],
   "source": [
    "Namings = {\n",
    "'load_date':'FechaProceso',\n",
    "'opening_date':'FechaApertura',\n",
    "'last_expiry_date':'FechaVencimiento',\n",
    "'contract_cancel_date':'FechaCancelacion',\n",
    "'account_opening_date':'FechaApertura',\n",
    "'original_expiry_date':'FechaVencimiento',\n",
    "'cutoff_date':'FechaProceso',\n",
    "'start_date':'FechaAperturaMarco',\n",
    "'expiration_date':'FechaVencimientoMarco',\n",
    "'cancel_date':'FechaCancelacionMarco',\n",
    "'contract_id':'ContratoDispo',\n",
    "'source_contract_id':'ContratoMarcoFicticio',\n",
    "'source_contract1_id':'ContratoMarcoAplicativo',\n",
    "'main_operation_id':'ContratoMarcoAplicativo',\n",
    "'customer_id':'CodigoCliente',\n",
    "'gl_account_id':'CuentaContable',\n",
    "'commercial_product_id':'IdProd',\n",
    "'commercial_subproduct_id':'IdSubprod',\n",
    "'summarized_local_product_id':'ProductoCostos',\n",
    "'sender_application_id':'Aplicativo',\n",
    "'gl_account_branch_id':'Oficina',\n",
    "'currency_id':'Divisa',\n",
    "'origin_currency_balance_amount':'SaldoP',\n",
    "'mthly_lcur_average_bal_amount':'SaldoM',\n",
    "'current_bal_local_curncy_amount':'SaldoPO',\n",
    "'mthly_lcur_average_bal1_amount':'SaldoMO',\n",
    "'initial_amount':'MontoInicial',\n",
    "'contract_rate_type':'TipoTasa',\n",
    "'CD_PROD_COMER':'IdProd',\n",
    "'CD_SUBPROD_COMER':'IdSubprod',\n",
    "'PRODCOME':'NombreProducto',\n",
    "'CODIGO_ALTAMIRA':'CodigoCliente',\n",
    "'GRUPO':'GrupoCib'\n",
    "}\n",
    "\n",
    "ColNum = {'SaldoP':np.float64,\n",
    "          'SaldoM':np.float64,\n",
    "          'SaldoMO':np.float64,\n",
    "          'SaldoPO':np.float64}"
   ]
  },
  {
   "cell_type": "markdown",
   "metadata": {},
   "source": [
    "## Mafi"
   ]
  },
  {
   "cell_type": "code",
   "execution_count": null,
   "metadata": {},
   "outputs": [],
   "source": [
    "MafiActual = pd.read_csv('MafiActual.csv',dtype=str).rename(columns=Namings).astype(ColNum)\n",
    "MafiAnterior = pd.read_csv('MafiAnterior.csv',dtype=str).rename(columns=Namings).astype(ColNum)"
   ]
  },
  {
   "cell_type": "markdown",
   "metadata": {},
   "source": [
    "## Atributos"
   ]
  },
  {
   "cell_type": "code",
   "execution_count": null,
   "metadata": {},
   "outputs": [],
   "source": [
    "AccActual = pd.read_csv('AccActual.csv',dtype=str).rename(columns=Namings)\n",
    "AttActual = pd.read_csv('AttActual.csv',dtype=str).rename(columns=Namings)\n",
    "CardActual = pd.read_csv('CardActual.csv',dtype=str).rename(columns=Namings)\n",
    "AccAnterior = pd.read_csv('AccAnterior.csv',dtype=str).rename(columns=Namings)\n",
    "AttAnterior = pd.read_csv('AttAnterior.csv',dtype=str).rename(columns=Namings)\n",
    "CardAnterior = pd.read_csv('CardAnterior.csv',dtype=str).rename(columns=Namings)\n",
    "ListaDfAtributos = [AccActual,AttActual,CardActual,AccAnterior,AttAnterior,CardAnterior]\n",
    "Atributos = pd.concat(ListaDfAtributos)\n",
    "Atributos['FechaProceso'] = Atributos['FechaProceso'].str[:7]"
   ]
  },
  {
   "cell_type": "markdown",
   "metadata": {},
   "source": [
    "# Rorc"
   ]
  },
  {
   "cell_type": "code",
   "execution_count": null,
   "metadata": {},
   "outputs": [],
   "source": [
    "RorcActual = pd.read_csv('RorcActual.csv',dtype=str).rename(columns=Namings)\n",
    "RorcAnterior = pd.read_csv('RorcAnterior.csv',dtype=str).rename(columns=Namings)\n",
    "Rorc = pd.concat([RorcActual,RorcAnterior])\n",
    "Rorc['FechaProceso'] = Rorc['FechaProceso'].str[:7]"
   ]
  },
  {
   "cell_type": "markdown",
   "metadata": {},
   "source": [
    "# OppAtt"
   ]
  },
  {
   "cell_type": "code",
   "execution_count": null,
   "metadata": {},
   "outputs": [],
   "source": [
    "OpAttActual = pd.read_csv('OpAttActual.csv',dtype=str).rename(columns=Namings)\n",
    "OpAttAnterior = pd.read_csv('OpAttAnterior.csv',dtype=str).rename(columns=Namings)\n",
    "OpAtt = pd.concat([OpAttActual,OpAttAnterior])\n",
    "OpAtt['FechaProceso'] = OpAtt['FechaProceso'].str[:7]"
   ]
  },
  {
   "cell_type": "markdown",
   "metadata": {},
   "source": [
    "# Productos"
   ]
  },
  {
   "cell_type": "code",
   "execution_count": null,
   "metadata": {},
   "outputs": [],
   "source": [
    "Productos = pd.read_csv('CatProdCom.csv',dtype=str,encoding='latin-1',\n",
    "                        usecols=['CD_PROD_COMER','CD_SUBPROD_COMER','PRODCOME']).rename(columns=Namings)"
   ]
  },
  {
   "cell_type": "markdown",
   "metadata": {},
   "source": [
    "# Catalogo Clientes"
   ]
  },
  {
   "cell_type": "code",
   "execution_count": null,
   "metadata": {},
   "outputs": [],
   "source": [
    "Clientes = pd.read_csv('CatClientes.csv',dtype=str,encoding='latin-1').rename(columns=Namings)"
   ]
  },
  {
   "cell_type": "markdown",
   "metadata": {},
   "source": [
    "----"
   ]
  },
  {
   "cell_type": "markdown",
   "metadata": {},
   "source": [
    "# Proceso"
   ]
  },
  {
   "cell_type": "code",
   "execution_count": null,
   "metadata": {},
   "outputs": [],
   "source": [
    "Mafi = MafiActual.merge(MafiAnterior, on = ['ContratoDispo', 'CodigoCliente', 'CuentaContable',\n",
    "                                            'IdProd', 'IdSubprod',\n",
    "                                            'Aplicativo', 'Oficina', 'Divisa'],\n",
    "                                            how='outer',\n",
    "                                            suffixes=('Actual', 'Anterior'))\n",
    "Mafi['FechaProceso'] = Mafi['FechaProcesoActual'].fillna(Mafi['FechaProcesoAnterior'])\n",
    "Mafi = Mafi.drop(['FechaProcesoActual','FechaProcesoAnterior'],axis=1)\n",
    "cols = ['FechaProceso'] + [col for col in Mafi.columns if col != 'FechaProceso']\n",
    "Mafi = Mafi[cols]\n",
    "Mafi['FechaProceso'] = Mafi['FechaProceso'].str[:7]\n",
    "Mafi[Mafi.select_dtypes(include='number').columns] = Mafi.select_dtypes(include='number').fillna(0)\n",
    "Mafi['FechaMes'] = MafiActual['FechaProceso']\n",
    "Mafi.shape"
   ]
  },
  {
   "cell_type": "code",
   "execution_count": null,
   "metadata": {},
   "outputs": [],
   "source": [
    "Mafi['VarSaldoM'] = Mafi['SaldoMActual'] - Mafi['SaldoMAnterior']\n",
    "Mafi['VarSaldoP'] = Mafi['SaldoPActual'] - Mafi['SaldoPAnterior']\n",
    "Mafi['VarSaldoMO'] = Mafi['SaldoMOActual'] - Mafi['SaldoMOAnterior']\n",
    "Mafi['VarSaldoPO'] = Mafi['SaldoPOActual'] - Mafi['SaldoPOAnterior']"
   ]
  },
  {
   "cell_type": "code",
   "execution_count": null,
   "metadata": {},
   "outputs": [],
   "source": [
    "Mafi1 = Mafi.merge(Atributos,\n",
    "                   on = ['ContratoDispo','FechaProceso'],\n",
    "                   how = 'left').merge(Rorc,\n",
    "                                       on = ['ContratoDispo','FechaProceso'],\n",
    "                                       how = 'left').merge(OpAtt,\n",
    "                                                           on=['ContratoMarcoAplicativo','FechaProceso'],\n",
    "                                                           how='left')\n",
    "Mafi1.shape\n",
    "ColumnasFecha = ['FechaProceso','FechaApertura','FechaVencimiento','FechaCancelacion',\n",
    "                 'FechaAperturaMarco', 'FechaVencimientoMarco','FechaMes']\n",
    "Mafi1[ColumnasFecha] = Mafi1[ColumnasFecha].apply(lambda x: x.str[:7])\n",
    "Mafi1[ColumnasFecha] = Mafi1[ColumnasFecha].apply(lambda x: pd.to_datetime(x, format='%Y-%m'))"
   ]
  },
  {
   "cell_type": "code",
   "execution_count": null,
   "metadata": {},
   "outputs": [],
   "source": [
    "# Campo Entrada\n",
    "Mafi1['Entrada'] = np.where(\n",
    "    (Mafi1['FechaProceso'].dt.year == Mafi1['FechaApertura'].dt.year) &\n",
    "    (Mafi1['FechaProceso'].dt.month == Mafi1['FechaApertura'].dt.month),\n",
    "    'alta',\n",
    "    None)\n",
    "\n",
    "# Campo Salida\n",
    "\n",
    "Mafi1['Salida'] = np.where(\n",
    "    (Mafi1['FechaVencimiento'].dt.year == Mafi1['FechaCancelacion'].dt.year) & \n",
    "    (Mafi1['FechaVencimiento'].dt.month == Mafi1['FechaCancelacion'].dt.month)&\n",
    "    (Mafi1['FechaVencimiento'].dt.year == Mafi1['FechaCancelacion'].dt.year) & \n",
    "    (Mafi1['FechaVencimiento'].dt.month == Mafi1['FechaCancelacion'].dt.month),\n",
    "    'natural',\n",
    "    np.where(\n",
    "        (Mafi1['FechaApertura'].dt.year == Mafi1['FechaCancelacion'].dt.year) & \n",
    "        (Mafi1['FechaApertura'].dt.month == Mafi1['FechaCancelacion'].dt.month) &\n",
    "        (Mafi1['FechaApertura'].dt.year == Mafi1['FechaMes'].dt.year) & \n",
    "        (Mafi1['FechaApertura'].dt.month == Mafi1['FechaMes'].dt.month),\n",
    "        'alta-baja',\n",
    "        np.where(\n",
    "            ((Mafi1['FechaCancelacion'].dt.year == Mafi1['FechaProceso'].dt.year) & \n",
    "            (Mafi1['FechaCancelacion'].dt.month == Mafi1['FechaProceso'].dt.month))&\n",
    "            (Mafi1['FechaCancelacion'].dt.year < Mafi1['FechaVencimiento'].dt.year) |\n",
    "            ((Mafi1['FechaCancelacion'].dt.year == Mafi1['FechaVencimiento'].dt.year) &\n",
    "             (Mafi1['FechaCancelacion'].dt.month < Mafi1['FechaVencimiento'].dt.month)),\n",
    "            'prepago',\n",
    "            None\n",
    "        )\n",
    "    )\n",
    ")\n",
    "\n",
    "\n",
    "# Campo linea\n",
    "Mafi1['Linea'] = np.select(\n",
    "        [\n",
    "            Mafi1['ContratoMarcoAplicativo'].isnull() & Mafi1['ContratoMarcoFicticio'].notnull(),\n",
    "            Mafi1['ContratoMarcoFicticio'].isnull() & Mafi1['ContratoMarcoAplicativo'].notnull(),\n",
    "            Mafi1['ContratoMarcoFicticio'].notnull() & Mafi1['ContratoMarcoAplicativo'].notnull(),\n",
    "            Mafi1['ContratoMarcoFicticio'].isnull() & Mafi1['ContratoMarcoAplicativo'].isnull()\n",
    "        ],\n",
    "        [\n",
    "            'comprometida',\n",
    "            'no comprometida',\n",
    "            'comprometida',\n",
    "            'no linea'\n",
    "        ],\n",
    "        default=None\n",
    "    )\n",
    "\n",
    "# Campo New Money\n",
    "Mafi1['NewMoney'] = np.where(\n",
    "    (Mafi1['FechaAperturaMarco'].dt.year == Mafi1['FechaApertura'].dt.year) & \n",
    "    (Mafi1['FechaAperturaMarco'].dt.month == Mafi1['FechaApertura'].dt.month)&\n",
    "    (Mafi1['FechaAperturaMarco'].dt.year == Mafi1['FechaProceso'].dt.year) & \n",
    "    (Mafi1['FechaAperturaMarco'].dt.month == Mafi1['FechaProceso'].dt.month),\n",
    "    '1',\n",
    "    np.where(\n",
    "        (Mafi1['Linea'] == 'no linea') &\n",
    "        ((Mafi1['FechaApertura'].dt.year == Mafi1['FechaMes'].dt.year) & \n",
    "        (Mafi1['FechaApertura'].dt.month == Mafi1['FechaMes'].dt.month)),\n",
    "        '2',\n",
    "        None\n",
    "    )\n",
    ")\n"
   ]
  },
  {
   "cell_type": "code",
   "execution_count": null,
   "metadata": {},
   "outputs": [],
   "source": [
    "Mafi1 = Mafi1.merge(Productos,\n",
    "                   on = ['IdProd','IdSubprod'],\n",
    "                   how = 'left').merge(Clientes,\n",
    "                                       on = 'CodigoCliente',\n",
    "                                       how = 'left')"
   ]
  },
  {
   "cell_type": "code",
   "execution_count": null,
   "metadata": {},
   "outputs": [],
   "source": [
    "# Validacion Salida: En el Saldo Actual deben ser todos 0 y puede haber cifras en el saldo del mes pasado\n",
    "(pd.pivot_table(Mafi1,\n",
    "               index = ['Salida','ContratoDispo'],\n",
    "               values=['SaldoPActual','SaldoPAnterior'],\n",
    "               dropna=False,\n",
    "               fill_value=0,\n",
    "               margins=True,\n",
    "               aggfunc='sum')/1000000).head()"
   ]
  },
  {
   "cell_type": "code",
   "execution_count": null,
   "metadata": {},
   "outputs": [],
   "source": [
    "pd.pivot_table(Mafi1,\n",
    "               index = ['NewMoney'],\n",
    "               values=['SaldoPActual','SaldoPAnterior'],\n",
    "               dropna=False,\n",
    "               fill_value=0,\n",
    "               margins=True,\n",
    "               aggfunc='sum')/1000000"
   ]
  },
  {
   "cell_type": "code",
   "execution_count": null,
   "metadata": {},
   "outputs": [],
   "source": [
    "Mafi1.to_excel('Enero24_v2.xlsx',index=False)"
   ]
  },
  {
   "cell_type": "code",
   "execution_count": null,
   "metadata": {},
   "outputs": [],
   "source": []
  }
 ],
 "metadata": {
  "kernelspec": {
   "display_name": "Python 3 (ipykernel)",
   "language": "python",
   "name": "python3"
  },
  "language_info": {
   "codemirror_mode": {
    "name": "ipython",
    "version": 3
   },
   "file_extension": ".py",
   "mimetype": "text/x-python",
   "name": "python",
   "nbconvert_exporter": "python",
   "pygments_lexer": "ipython3",
   "version": "3.12.5"
  }
 },
 "nbformat": 4,
 "nbformat_minor": 4
}
