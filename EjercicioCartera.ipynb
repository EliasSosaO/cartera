{
 "cells": [
  {
   "cell_type": "code",
   "execution_count": 1,
   "metadata": {},
   "outputs": [],
   "source": [
    "import pandas as pd\n",
    "import numpy as np\n",
    "import os\n",
    "pd.set_option('display.float_format', lambda x: '%.2f' % x)\n",
    "pd.set_option('display.max_columns', None)\n",
    "pd.set_option('display.max_rows', None)"
   ]
  },
  {
   "cell_type": "markdown",
   "metadata": {},
   "source": [
    "# Tablas"
   ]
  },
  {
   "cell_type": "code",
   "execution_count": 2,
   "metadata": {},
   "outputs": [],
   "source": [
    "MafiActual = pd.read_csv('MafiActual.csv',\n",
    "                         dtype=str)\n",
    "MafiAnterior = pd.read_csv('MafiAnterior.csv',\n",
    "                         dtype=str)\n",
    "ColNum = {'origin_currency_balance_amount':np.float64,\n",
    "          'mthly_lcur_average_bal_amount':np.float64,\n",
    "          'current_bal_local_curncy_amount':np.float64,\n",
    "          'mthly_lcur_average_bal1_amount':np.float64}\n",
    "MafiActual, MafiAnterior = MafiActual.astype(ColNum), MafiAnterior.astype(ColNum)"
   ]
  },
  {
   "cell_type": "markdown",
   "metadata": {},
   "source": [
    "# Atributos"
   ]
  },
  {
   "cell_type": "code",
   "execution_count": 3,
   "metadata": {},
   "outputs": [],
   "source": [
    "AccActual = pd.read_csv('AccActual.csv',\n",
    "                         dtype=str)\n",
    "AttActual = pd.read_csv('AttActual.csv',\n",
    "                         dtype=str)\n",
    "AttActual = AttActual.rename(columns={'account_opening_date': 'opening_date',\n",
    "                                      'original_expiry_date': 'last_expiry_date'})\n",
    "CardActual = pd.read_csv('CardActual.csv',\n",
    "                         dtype=str)\n",
    "AtributosActual = pd.concat([AccActual,AttActual,CardActual])\n",
    "\n",
    "AccAnterior = pd.read_csv('AccAnterior.csv',\n",
    "                         dtype=str)\n",
    "AttAnterior = pd.read_csv('AttAnterior.csv',\n",
    "                         dtype=str)\n",
    "AttAnterior = AttAnterior.rename(columns={'account_opening_date': 'opening_date',\n",
    "                                      'original_expiry_date': 'last_expiry_date'})\n",
    "CardAnterior = pd.read_csv('CardAnterior.csv',\n",
    "                         dtype=str)\n",
    "AtributosAnterior = pd.concat([AccAnterior,AttAnterior,CardAnterior])\n",
    "Atributos = pd.concat([AtributosActual,AtributosAnterior])\n",
    "Atributos['load_date'] = Atributos['load_date'].str[:7]"
   ]
  },
  {
   "cell_type": "markdown",
   "metadata": {},
   "source": [
    "# Rorc"
   ]
  },
  {
   "cell_type": "code",
   "execution_count": 4,
   "metadata": {},
   "outputs": [],
   "source": [
    "RorcActual = pd.read_csv('RorcActual.csv',\n",
    "                         dtype=str)\n",
    "RorcAnterior = pd.read_csv('RorcAnterior.csv',\n",
    "                         dtype=str)\n",
    "Rorc = pd.concat([RorcActual,RorcAnterior])\n",
    "Rorc['cutoff_date'] = Rorc['cutoff_date'].str[:7]\n",
    "Rorc = Rorc.rename(columns={'cutoff_date': 'load_date'})"
   ]
  },
  {
   "cell_type": "markdown",
   "metadata": {},
   "source": [
    "# OppAtt"
   ]
  },
  {
   "cell_type": "code",
   "execution_count": 5,
   "metadata": {},
   "outputs": [],
   "source": [
    "OpAttActual = pd.read_csv('OpAttActual.csv',\n",
    "                         dtype=str)\n",
    "OpAttAnterior = pd.read_csv('OpAttAnterior.csv',\n",
    "                         dtype=str)\n",
    "OpAtt = pd.concat([OpAttActual,OpAttAnterior])\n",
    "OpAtt['cutoff_date'] = OpAtt['cutoff_date'].str[:7]\n",
    "OpAtt = OpAtt.rename(columns={'cutoff_date': 'load_date'})"
   ]
  },
  {
   "cell_type": "markdown",
   "metadata": {},
   "source": [
    "# Refina"
   ]
  },
  {
   "cell_type": "code",
   "execution_count": 6,
   "metadata": {},
   "outputs": [],
   "source": [
    "RelatedActual = pd.read_csv('RelatedActual.csv',\n",
    "                  dtype=str,\n",
    "                  usecols=['source_contract_id','dest_contract_id','relation_type','information_date'])\n",
    "RelatedAnterior = pd.read_csv('RelatedAnterior.csv',\n",
    "                  dtype=str,\n",
    "                  usecols=['source_contract_id','dest_contract_id','relation_type','information_date'])\n",
    "RelatedGen = pd.concat([RelatedActual,RelatedAnterior])\n",
    "RelatedGen = RelatedGen[RelatedGen['relation_type'].isin(['002010','002003'])]"
   ]
  },
  {
   "cell_type": "markdown",
   "metadata": {},
   "source": [
    "# Productos"
   ]
  },
  {
   "cell_type": "code",
   "execution_count": 42,
   "metadata": {},
   "outputs": [],
   "source": [
    "Productos = pd.read_csv('CatProdCom.csv',dtype=str,encoding='latin-1', usecols=['CD_PROD_COMER','CD_SUBPROD_COMER','PRODCOME'])\n",
    "Productos.columns = ['commercial_product_id','commercial_subproduct_id','product_name']"
   ]
  },
  {
   "cell_type": "markdown",
   "metadata": {},
   "source": [
    "# Catalogo Clientes"
   ]
  },
  {
   "cell_type": "code",
   "execution_count": 43,
   "metadata": {},
   "outputs": [],
   "source": [
    "Clientes = pd.read_csv('CatClientes.csv',dtype=str,encoding='latin-1')\n",
    "Clientes.columns = ['customer_id','group'] "
   ]
  },
  {
   "cell_type": "markdown",
   "metadata": {},
   "source": [
    "----"
   ]
  },
  {
   "cell_type": "markdown",
   "metadata": {},
   "source": [
    "# Proceso"
   ]
  },
  {
   "cell_type": "code",
   "execution_count": 110,
   "metadata": {},
   "outputs": [
    {
     "data": {
      "text/plain": [
       "(636092, 18)"
      ]
     },
     "execution_count": 110,
     "metadata": {},
     "output_type": "execute_result"
    }
   ],
   "source": [
    "Mafi = MafiActual.merge(MafiAnterior, on = ['contract_id', 'customer_id', 'gl_account_id',\n",
    "                                            'commercial_product_id', 'commercial_subproduct_id',\n",
    "                                            'sender_application_id', 'gl_account_branch_id', 'currency_id'],\n",
    "                                            how='outer',\n",
    "                                            suffixes=('_actual', '_anterior'))\n",
    "Mafi['load_date'] = Mafi['load_date_actual'].fillna(Mafi['load_date_anterior'])\n",
    "Mafi = Mafi.drop(['load_date_actual','load_date_anterior'],axis=1)\n",
    "cols = ['load_date'] + [col for col in Mafi.columns if col != 'load_date']\n",
    "Mafi = Mafi[cols]\n",
    "Mafi['load_date'] = Mafi['load_date'].str[:7]\n",
    "Mafi['mthly_lcur_average_bal_amount_actual'] = Mafi['mthly_lcur_average_bal_amount_actual'].fillna(0)\n",
    "Mafi['origin_currency_balance_amount_actual'] = Mafi['origin_currency_balance_amount_actual'].fillna(0)\n",
    "Mafi['mthly_lcur_average_bal1_amount_actual'] = Mafi['mthly_lcur_average_bal1_amount_actual'].fillna(0)\n",
    "Mafi['current_bal_local_curncy_amount_actual'] = Mafi['current_bal_local_curncy_amount_actual'].fillna(0)\n",
    "Mafi['mthly_lcur_average_bal_amount_anterior'] = Mafi['mthly_lcur_average_bal_amount_anterior'].fillna(0)\n",
    "Mafi['origin_currency_balance_amount_anterior'] = Mafi['origin_currency_balance_amount_anterior'].fillna(0)\n",
    "Mafi['mthly_lcur_average_bal1_amount_anterior'] = Mafi['mthly_lcur_average_bal1_amount_anterior'].fillna(0)\n",
    "Mafi['current_bal_local_curncy_amount_anterior'] = Mafi['current_bal_local_curncy_amount_anterior'].fillna(0)\n",
    "Mafi['information_process'] = MafiActual['load_date']\n",
    "Mafi.shape"
   ]
  },
  {
   "cell_type": "code",
   "execution_count": 111,
   "metadata": {},
   "outputs": [],
   "source": [
    "Mafi['var_medio'] = Mafi['mthly_lcur_average_bal_amount_actual'] - Mafi['mthly_lcur_average_bal_amount_anterior']\n",
    "Mafi['var_puntual'] = Mafi['origin_currency_balance_amount_actual'] - Mafi['origin_currency_balance_amount_anterior']\n",
    "Mafi['var_medio_origen'] = Mafi['mthly_lcur_average_bal1_amount_actual'] - Mafi['mthly_lcur_average_bal1_amount_anterior']\n",
    "Mafi['var_puntual_origen'] = Mafi['current_bal_local_curncy_amount_actual'] - Mafi['current_bal_local_curncy_amount_anterior']"
   ]
  },
  {
   "cell_type": "code",
   "execution_count": 114,
   "metadata": {},
   "outputs": [],
   "source": [
    "Mafi1 = Mafi.merge(Atributos,\n",
    "                   on = ['contract_id','load_date'],\n",
    "                   how = 'left').merge(Rorc,\n",
    "                                       on = ['contract_id','load_date'],\n",
    "                                       how = 'left').merge(OpAtt,\n",
    "                                                           left_on=['source_contract1_id','load_date'],\n",
    "                                                           right_on=['main_operation_id','load_date'], how='left')\n",
    "Mafi1.shape\n",
    "ColumnasFecha = ['load_date','opening_date','last_expiry_date', 'contract_cancel_date',  'start_date', 'expiration_date','information_process']\n",
    "Mafi1[ColumnasFecha] = Mafi1[ColumnasFecha].apply(lambda x: x.str[:7])\n",
    "Mafi1[ColumnasFecha] = Mafi1[ColumnasFecha].apply(lambda x: pd.to_datetime(x, format='%Y-%m'))"
   ]
  },
  {
   "cell_type": "code",
   "execution_count": 115,
   "metadata": {},
   "outputs": [],
   "source": [
    "# Campo Entrada\n",
    "Mafi1['Entrada'] = np.where(\n",
    "    (Mafi1['load_date'].dt.year == Mafi1['opening_date'].dt.year) &\n",
    "    (Mafi1['load_date'].dt.month == Mafi1['opening_date'].dt.month),\n",
    "    'alta',\n",
    "    None)\n",
    "\n",
    "# Campo Salida\n",
    "\n",
    "Mafi1['Salida'] = np.where(\n",
    "    (Mafi1['last_expiry_date'].dt.year == Mafi1['contract_cancel_date'].dt.year) & \n",
    "    (Mafi1['last_expiry_date'].dt.month == Mafi1['contract_cancel_date'].dt.month),\n",
    "    'natural',\n",
    "    np.where(\n",
    "        (Mafi1['opening_date'].dt.year == Mafi1['contract_cancel_date'].dt.year) & \n",
    "        (Mafi1['opening_date'].dt.month == Mafi1['contract_cancel_date'].dt.month) &\n",
    "        (Mafi1['opening_date'].dt.year == Mafi1['load_date'].dt.year) & \n",
    "        (Mafi1['opening_date'].dt.month == Mafi1['load_date'].dt.month),\n",
    "        'alta-baja',\n",
    "        np.where(\n",
    "            ((Mafi1['contract_cancel_date'].dt.year == Mafi1['load_date'].dt.year) & \n",
    "            (Mafi1['contract_cancel_date'].dt.month == Mafi1['load_date'].dt.month))&\n",
    "            (Mafi1['contract_cancel_date'].dt.year < Mafi1['last_expiry_date'].dt.year) |\n",
    "            ((Mafi1['contract_cancel_date'].dt.year == Mafi1['last_expiry_date'].dt.year) &\n",
    "             (Mafi1['contract_cancel_date'].dt.month < Mafi1['last_expiry_date'].dt.month)),\n",
    "            'prepago',\n",
    "            None\n",
    "        )\n",
    "    )\n",
    ")\n",
    "\n",
    "\n",
    "# Campo linea\n",
    "Mafi1['linea'] = np.select(\n",
    "        [\n",
    "            Mafi1['source_contract1_id'].isnull() & Mafi1['source_contract_id'].notnull(),\n",
    "            Mafi1['source_contract_id'].isnull() & Mafi1['source_contract1_id'].notnull(),\n",
    "            Mafi1['source_contract_id'].notnull() & Mafi1['source_contract1_id'].notnull(),\n",
    "            Mafi1['source_contract_id'].isnull() & Mafi1['source_contract1_id'].isnull()\n",
    "        ],\n",
    "        [\n",
    "            'comprometida',\n",
    "            'no comprometida',\n",
    "            'comprometida',\n",
    "            'no linea'\n",
    "        ],\n",
    "        default=None\n",
    "    )\n",
    "\n",
    "# Campo New Money\n",
    "Mafi1['new_money'] = np.where(\n",
    "    (Mafi1['start_date'].dt.year == Mafi1['opening_date'].dt.year) & \n",
    "    (Mafi1['start_date'].dt.month == Mafi1['opening_date'].dt.month)&\n",
    "    (Mafi1['start_date'].dt.year == Mafi1['load_date'].dt.year) & \n",
    "    (Mafi1['start_date'].dt.month == Mafi1['load_date'].dt.month),\n",
    "    '1',\n",
    "    np.where(\n",
    "        (Mafi1['linea'] == 'no linea') &\n",
    "        ((Mafi1['opening_date'].dt.year == Mafi1['information_process'].dt.year) & \n",
    "        (Mafi1['opening_date'].dt.month == Mafi1['information_process'].dt.month)),\n",
    "        '2',\n",
    "        None\n",
    "    )\n",
    ")\n"
   ]
  },
  {
   "cell_type": "code",
   "execution_count": 116,
   "metadata": {},
   "outputs": [],
   "source": [
    "Mafi1 = Mafi1.merge(Productos,\n",
    "                   on = ['commercial_product_id','commercial_subproduct_id'],\n",
    "                   how = 'left').merge(Clientes,\n",
    "                                       on = 'customer_id',\n",
    "                                       how = 'left')"
   ]
  },
  {
   "cell_type": "code",
   "execution_count": 119,
   "metadata": {},
   "outputs": [
    {
     "data": {
      "text/html": [
       "<div>\n",
       "<style scoped>\n",
       "    .dataframe tbody tr th:only-of-type {\n",
       "        vertical-align: middle;\n",
       "    }\n",
       "\n",
       "    .dataframe tbody tr th {\n",
       "        vertical-align: top;\n",
       "    }\n",
       "\n",
       "    .dataframe thead th {\n",
       "        text-align: right;\n",
       "    }\n",
       "</style>\n",
       "<table border=\"1\" class=\"dataframe\">\n",
       "  <thead>\n",
       "    <tr style=\"text-align: right;\">\n",
       "      <th></th>\n",
       "      <th>origin_currency_balance_amount_actual</th>\n",
       "      <th>origin_currency_balance_amount_anterior</th>\n",
       "    </tr>\n",
       "    <tr>\n",
       "      <th>Salida</th>\n",
       "      <th></th>\n",
       "      <th></th>\n",
       "    </tr>\n",
       "  </thead>\n",
       "  <tbody>\n",
       "    <tr>\n",
       "      <th>alta-baja</th>\n",
       "      <td>0.00</td>\n",
       "      <td>0.00</td>\n",
       "    </tr>\n",
       "    <tr>\n",
       "      <th>natural</th>\n",
       "      <td>0.00</td>\n",
       "      <td>16873.42</td>\n",
       "    </tr>\n",
       "    <tr>\n",
       "      <th>prepago</th>\n",
       "      <td>0.00</td>\n",
       "      <td>36598.20</td>\n",
       "    </tr>\n",
       "    <tr>\n",
       "      <th>All</th>\n",
       "      <td>272878.63</td>\n",
       "      <td>275046.08</td>\n",
       "    </tr>\n",
       "  </tbody>\n",
       "</table>\n",
       "</div>"
      ],
      "text/plain": [
       "           origin_currency_balance_amount_actual  \\\n",
       "Salida                                             \n",
       "alta-baja                                   0.00   \n",
       "natural                                     0.00   \n",
       "prepago                                     0.00   \n",
       "All                                    272878.63   \n",
       "\n",
       "           origin_currency_balance_amount_anterior  \n",
       "Salida                                              \n",
       "alta-baja                                     0.00  \n",
       "natural                                   16873.42  \n",
       "prepago                                   36598.20  \n",
       "All                                      275046.08  "
      ]
     },
     "execution_count": 119,
     "metadata": {},
     "output_type": "execute_result"
    }
   ],
   "source": [
    "pd.pivot_table(Mafi1,\n",
    "               index = ['Salida'],\n",
    "               values=['origin_currency_balance_amount_actual','origin_currency_balance_amount_anterior'],\n",
    "               dropna=False,\n",
    "               fill_value=0,\n",
    "               margins=True,\n",
    "               aggfunc='sum')/1000000"
   ]
  },
  {
   "cell_type": "code",
   "execution_count": 118,
   "metadata": {},
   "outputs": [
    {
     "data": {
      "text/html": [
       "<div>\n",
       "<style scoped>\n",
       "    .dataframe tbody tr th:only-of-type {\n",
       "        vertical-align: middle;\n",
       "    }\n",
       "\n",
       "    .dataframe tbody tr th {\n",
       "        vertical-align: top;\n",
       "    }\n",
       "\n",
       "    .dataframe thead th {\n",
       "        text-align: right;\n",
       "    }\n",
       "</style>\n",
       "<table border=\"1\" class=\"dataframe\">\n",
       "  <thead>\n",
       "    <tr style=\"text-align: right;\">\n",
       "      <th></th>\n",
       "      <th>origin_currency_balance_amount_actual</th>\n",
       "      <th>origin_currency_balance_amount_anterior</th>\n",
       "    </tr>\n",
       "    <tr>\n",
       "      <th>new_money</th>\n",
       "      <th></th>\n",
       "      <th></th>\n",
       "    </tr>\n",
       "  </thead>\n",
       "  <tbody>\n",
       "    <tr>\n",
       "      <th>1</th>\n",
       "      <td>2614.30</td>\n",
       "      <td>0.00</td>\n",
       "    </tr>\n",
       "    <tr>\n",
       "      <th>2</th>\n",
       "      <td>2064.77</td>\n",
       "      <td>0.00</td>\n",
       "    </tr>\n",
       "    <tr>\n",
       "      <th>All</th>\n",
       "      <td>272878.63</td>\n",
       "      <td>275046.08</td>\n",
       "    </tr>\n",
       "  </tbody>\n",
       "</table>\n",
       "</div>"
      ],
      "text/plain": [
       "           origin_currency_balance_amount_actual  \\\n",
       "new_money                                          \n",
       "1                                        2614.30   \n",
       "2                                        2064.77   \n",
       "All                                    272878.63   \n",
       "\n",
       "           origin_currency_balance_amount_anterior  \n",
       "new_money                                           \n",
       "1                                             0.00  \n",
       "2                                             0.00  \n",
       "All                                      275046.08  "
      ]
     },
     "execution_count": 118,
     "metadata": {},
     "output_type": "execute_result"
    }
   ],
   "source": [
    "pd.pivot_table(Mafi1,\n",
    "               index = ['new_money'],\n",
    "               values=['origin_currency_balance_amount_actual','origin_currency_balance_amount_anterior'],\n",
    "               dropna=False,\n",
    "               fill_value=0,\n",
    "               margins=True,\n",
    "               aggfunc='sum')/1000000"
   ]
  },
  {
   "cell_type": "code",
   "execution_count": null,
   "metadata": {},
   "outputs": [],
   "source": []
  }
 ],
 "metadata": {
  "kernelspec": {
   "display_name": "Python 3 (ipykernel)",
   "language": "python",
   "name": "python3"
  },
  "language_info": {
   "codemirror_mode": {
    "name": "ipython",
    "version": 3
   },
   "file_extension": ".py",
   "mimetype": "text/x-python",
   "name": "python",
   "nbconvert_exporter": "python",
   "pygments_lexer": "ipython3",
   "version": "3.12.5"
  }
 },
 "nbformat": 4,
 "nbformat_minor": 4
}
